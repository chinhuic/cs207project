{
 "cells": [
  {
   "cell_type": "code",
   "execution_count": 22,
   "metadata": {
    "collapsed": false
   },
   "outputs": [],
   "source": [
    "#import reprlib\n",
    "#import itertools\n",
    "#% timeseries.py\n",
    "\n",
    "\"\"\" TimeSeries class \n",
    "    Represents a series of ordered numerical values, possibly empty\n",
    "    Construction:  ts = TimeSeries(<any sequence of numerical values>)\n",
    "    PRE: timeseries data MUST  be in order\n",
    "    \n",
    "\"\"\"\n",
    "class TimeSeries:\n",
    "    \n",
    "    #constructor for TimeSeries\n",
    "    #attributes are \n",
    "    #  value: contains the time series ordered data\n",
    "    def __init__(self, data):\n",
    "        self.value = [x for x in data]\n",
    "    \n",
    "    #Method len(ts), returns length of timeseries\n",
    "    def __len__(self):\n",
    "        return len(self.value)\n",
    "    \n",
    "    # Method to return item val in timeseries given the index\n",
    "    # use as ts[index]\n",
    "    def __getitem__(self, index):\n",
    "        return self.value[index]\n",
    "    \n",
    "    # Method to set val as ts(index) = val\n",
    "    # Return nothing\n",
    "    def __setitem__(self, index, val):\n",
    "        self.value[index] = val\n",
    "    \n",
    "    \n",
    "    # for length < 3, need to clean up repr\n",
    "    def __repr__(self):\n",
    "        class_name = type(self).__name__\n",
    "        s = class_name + '['\n",
    "        for i in range(len(self)):\n",
    "            if (i >2):\n",
    "                break\n",
    "            s = s + str(self.value[i]) + ', ' \n",
    "            \n",
    "        if (len(self) > 2):\n",
    "            s = s + '... ]'\n",
    "        return s\n",
    "    \n",
    "    def __str__(self):\n",
    "        s = 'The timeseries of length ' + str(len(self.value)) + ' is ['\n",
    "        \n",
    "        for i in range(len(self)):\n",
    "            if (i >2):\n",
    "                break\n",
    "            s = s + str(self.value[i]) + ', ' \n",
    "            \n",
    "        if (len(self) > 2):\n",
    "            s = s + '... ]'\n",
    "        return s\n",
    "     \n",
    "    "
   ]
  },
  {
   "cell_type": "code",
   "execution_count": 24,
   "metadata": {
    "collapsed": false
   },
   "outputs": [
    {
     "name": "stdout",
     "output_type": "stream",
     "text": [
      "The timeseries of length 500 is [0, 2, 4, ... ]\n"
     ]
    },
    {
     "data": {
      "text/plain": [
       "TimeSeries[0, 2, 100, ... ]"
      ]
     },
     "execution_count": 24,
     "metadata": {},
     "output_type": "execute_result"
    }
   ],
   "source": [
    "ts = TimeSeries(range(0, 1000, 2))\n",
    "print (ts)\n",
    "ts[2] = 100\n",
    "\n",
    "ts"
   ]
  },
  {
   "cell_type": "code",
   "execution_count": 26,
   "metadata": {
    "collapsed": false
   },
   "outputs": [
    {
     "name": "stdout",
     "output_type": "stream",
     "text": [
      "sum 233168\n"
     ]
    }
   ],
   "source": [
    "threes = TimeSeries(range(0,1000,3))\n",
    "fives = TimeSeries(range(0,1000,5))\n",
    "\n",
    "s = 0\n",
    "for i in range(0,1000):\n",
    "  if i in threes or i in fives:\n",
    "        s += i\n",
    "\n",
    "print(\"sum\",s)"
   ]
  },
  {
   "cell_type": "code",
   "execution_count": null,
   "metadata": {
    "collapsed": true
   },
   "outputs": [],
   "source": []
  }
 ],
 "metadata": {
  "kernelspec": {
   "display_name": "Python [py35]",
   "language": "python",
   "name": "Python [py35]"
  },
  "language_info": {
   "codemirror_mode": {
    "name": "ipython",
    "version": 3
   },
   "file_extension": ".py",
   "mimetype": "text/x-python",
   "name": "python",
   "nbconvert_exporter": "python",
   "pygments_lexer": "ipython3",
   "version": "3.5.2"
  }
 },
 "nbformat": 4,
 "nbformat_minor": 0
}
