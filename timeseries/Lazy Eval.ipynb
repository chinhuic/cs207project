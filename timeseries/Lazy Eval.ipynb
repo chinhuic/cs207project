{
 "cells": [
  {
   "cell_type": "code",
   "execution_count": 10,
   "metadata": {
    "collapsed": false
   },
   "outputs": [],
   "source": [
    "# %load lazy.py\n",
    "class LazyOperation():\n",
    "    def __init__(self, function, *args, **kwargs):\n",
    "        self._function = function\n",
    "        self._args = args\n",
    "        self._kwargs = kwargs\n",
    "\n",
    "    def eval(self):\n",
    "        # Recursively eval() lazy args\n",
    "        new_args = [a.eval() if isinstance(a,LazyOperation) else a for a in self._args]\n",
    "        new_kwargs = {k:v.eval() if isinstance(v,LazyOperation) else v for k,v in self._kwargs}\n",
    "        return self._function(*new_args, **new_kwargs)\n",
    "\n",
    "    # Debug:\n",
    "    def thunk_tree(self, indent='| '):\n",
    "        s = indent[:-2]+'| ['+self._function.__name__+']\\n'\n",
    "        for a in self._args:\n",
    "            if isinstance(a, LazyOperation):\n",
    "                s += a.thunk_tree(indent=indent+'| ')\n",
    "            else:\n",
    "                s += indent+'| '+str(a)+'\\n'\n",
    "        for k,v in self._kwargs:\n",
    "            if isinstance(a, LazyOperation):\n",
    "                s += str(k)+'='+v.thunk_tree(indent=indent+'| ')\n",
    "            else:\n",
    "                s += indent+'| '+str(k)+'='+str(v)+'\\n'\n",
    "        return s\n",
    "\n",
    "\n",
    "def lazy(function):\n",
    "    #thunk  == future\n",
    "    def create_thunk(*args, **kwargs):\n",
    "        return LazyOperation(function, *args, **kwargs)\n",
    "    return create_thunk\n",
    "\n",
    "@lazy\n",
    "def lazy_add(a,b):\n",
    "    return a+b\n",
    "\n",
    "@lazy\n",
    "def lazy_mul(a,b):\n",
    "    return a*b\n"
   ]
  },
  {
   "cell_type": "code",
   "execution_count": 11,
   "metadata": {
    "collapsed": false
   },
   "outputs": [
    {
     "data": {
      "text/plain": [
       "True"
      ]
     },
     "execution_count": 11,
     "metadata": {},
     "output_type": "execute_result"
    }
   ],
   "source": [
    "isinstance(lazy_add(1,2), LazyOperation) == True"
   ]
  },
  {
   "cell_type": "code",
   "execution_count": null,
   "metadata": {
    "collapsed": true
   },
   "outputs": [],
   "source": []
  }
 ],
 "metadata": {
  "anaconda-cloud": {},
  "kernelspec": {
   "display_name": "Python [py35]",
   "language": "python",
   "name": "Python [py35]"
  },
  "language_info": {
   "codemirror_mode": {
    "name": "ipython",
    "version": 3
   },
   "file_extension": ".py",
   "mimetype": "text/x-python",
   "name": "python",
   "nbconvert_exporter": "python",
   "pygments_lexer": "ipython3",
   "version": "3.5.2"
  }
 },
 "nbformat": 4,
 "nbformat_minor": 0
}
