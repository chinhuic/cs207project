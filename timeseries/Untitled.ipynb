{
 "cells": [
  {
   "cell_type": "code",
   "execution_count": null,
   "metadata": {
    "collapsed": true
   },
   "outputs": [],
   "source": []
  },
  {
   "cell_type": "code",
   "execution_count": 4,
   "metadata": {
    "collapsed": false
   },
   "outputs": [
    {
     "name": "stdout",
     "output_type": "stream",
     "text": [
      "Overwriting StorageManagerInterface.py\n"
     ]
    }
   ],
   "source": [
    "%%file StorageManagerInterface.py\n",
    "\n",
    "import abc\n",
    "\n",
    "class StorageManagerInterface(abc.ABC):\n",
    "    \"\"\"\n",
    "    Interface for the Storage Manager class\n",
    "    \"\"\"\n",
    "    \n",
    "    @abc.abstractmethod\n",
    "    def store(self, id, t):\n",
    "        \"\"\"\n",
    "        Method to store an instance of a SizedContainerTimeSeriesInterface\n",
    "        \"\"\"\n",
    "    \n",
    "    @abc.abstractmethod\n",
    "    def size(self, id):\n",
    "        \"\"\"\n",
    "        Method to obtain the size of a SizedContainerTimeSeriesInterface by id\n",
    "        \"\"\"\n",
    "        \n",
    "    @abc.abstractmethod\n",
    "    def get(self, id):\n",
    "        \"\"\"\n",
    "        Method to obtain a SizedContainerTimeSeries instance.\n",
    "        \"\"\"\n",
    "        "
   ]
  },
  {
   "cell_type": "code",
   "execution_count": 7,
   "metadata": {
    "collapsed": false
   },
   "outputs": [
    {
     "name": "stdout",
     "output_type": "stream",
     "text": [
      "Writing SMTimeSeries.py\n"
     ]
    }
   ],
   "source": [
    "%%file SMTimeSeries.py\n",
    "\n",
    "from SizedContainerTimeSeriesInterface import SizedContainerTimeSeriesInterface\n",
    "\n",
    "class SMTimeSeries(SizedContainerTimeSeriesInterface):\n",
    "    \"\"\"\n",
    "    StorageManager Time Series Class\n",
    "    \"\"\"\n",
    "    def __init__(self, times, values, id = None):\n",
    "        raise NotImplementedError\n",
    "        \n",
    "    def from_db(self, id):\n",
    "        \"\"\"\n",
    "        (Class)method with an id to look up and fetch from the storage manager. The \n",
    "        storage manager allocates the time series in memory.\n",
    "        \"\"\"\n",
    "        raise NotImplementedError\n",
    "    \n",
    "\n"
   ]
  },
  {
   "cell_type": "code",
   "execution_count": 8,
   "metadata": {
    "collapsed": false
   },
   "outputs": [
    {
     "name": "stdout",
     "output_type": "stream",
     "text": [
      "Writing FileStorageManager.py\n"
     ]
    }
   ],
   "source": [
    "%%file FileStorageManager.py\n",
    "\n",
    "from StorageManagerInterface import StorageManagerInterface\n",
    "\n",
    "class FileStorageManager(StorageManagerInterface):\n",
    "    \n",
    "    def __init__(self, file):\n",
    "        raise NotImplementedError\n",
    "        \n",
    "    def store(self, id, t):\n",
    "        \"\"\"\n",
    "        Method to store an instance of a SizedContainerTimeSeriesInterface\n",
    "        \"\"\"\n",
    "        raise NotImplementedError\n",
    "        \n",
    "    def size(self, id):\n",
    "        \"\"\"\n",
    "        Method to obtain the size of a SizedContainerTimeSeriesInterface by id\n",
    "        \"\"\"\n",
    "        raise NotImplementedError\n",
    "        \n",
    "    def get(self, id):\n",
    "        \"\"\"\n",
    "        Method to obtain a SizedContainerTimeSeries instance\n",
    "        \"\"\"\n",
    "        raise NotImplementedError\n",
    "       "
   ]
  },
  {
   "cell_type": "code",
   "execution_count": null,
   "metadata": {
    "collapsed": true
   },
   "outputs": [],
   "source": []
  }
 ],
 "metadata": {
  "anaconda-cloud": {},
  "kernelspec": {
   "display_name": "Python [py35]",
   "language": "python",
   "name": "Python [py35]"
  },
  "language_info": {
   "codemirror_mode": {
    "name": "ipython",
    "version": 3
   },
   "file_extension": ".py",
   "mimetype": "text/x-python",
   "name": "python",
   "nbconvert_exporter": "python",
   "pygments_lexer": "ipython3",
   "version": "3.5.2"
  }
 },
 "nbformat": 4,
 "nbformat_minor": 0
}
